{
 "cells": [
  {
   "cell_type": "code",
   "execution_count": null,
   "metadata": {},
   "outputs": [],
   "source": [
    "# uncomment below to pip install the dependencies\n",
    "# !python -m pip install pandas\n",
    "# !python -m pip install scikit-learn\n",
    "\n",
    "\n",
    "# optional dependency which is required for reading parquet files in pandas \n",
    "# uncomment to install...\n",
    "#!python -m pip install pyarrow\n",
    "\n",
    "\n",
    "# imports...\n",
    "import pandas as pd\n",
    "import joblib\n",
    "from sklearn.model_selection import train_test_split\n",
    "from sklearn.ensemble import RandomForestClassifier as RF\n",
    "from sklearn.metrics import accuracy_score"
   ]
  },
  {
   "cell_type": "code",
   "execution_count": null,
   "metadata": {},
   "outputs": [],
   "source": [
    "# load the data into a pandas dataframe, drop the last column\n",
    "data = pd.read_parquet('./data/flight_data.parquet', engine='pyarrow').iloc[:,:-1]\n",
    "\n",
    "# drop ArrDelay (1-1 relation with target variable) and 'Carrier' - optionally we could instead encode 'Carrier' with \".astype('category').cat.codes\"\n",
    "data.drop('Carrier', axis=1, inplace=True)\n",
    "data.drop('ArrDelay', axis=1, inplace=True)\n",
    "\n",
    "# drop rows containing Na, print first 5 rows\n",
    "data = data.dropna()\n",
    "data.head()"
   ]
  },
  {
   "cell_type": "code",
   "execution_count": null,
   "metadata": {},
   "outputs": [],
   "source": [
    "# We only use 10k rows for training as it is enough for the example. \n",
    "# You don't want your output model to be too large, and in our case, reducing the training data also decreases the model size..\n",
    "print(r\"WARNING: Dropping most of the data of data\")\n",
    "data = data[:10000]\n",
    "print(data.shape)"
   ]
  },
  {
   "cell_type": "code",
   "execution_count": null,
   "metadata": {},
   "outputs": [],
   "source": [
    "# split the data into predictors and target variable, and split the data. \n",
    "x, y = data.iloc[:,:-1], data.iloc[:,-1]\n",
    "xtrain, xtest, ytrain, ytest = train_test_split(x, y)"
   ]
  },
  {
   "cell_type": "code",
   "execution_count": null,
   "metadata": {},
   "outputs": [],
   "source": [
    "# create the classifier object, fit the classifier with the training data\n",
    "clf = RF()\n",
    "clf.fit(xtrain, ytrain)"
   ]
  },
  {
   "cell_type": "code",
   "execution_count": null,
   "metadata": {},
   "outputs": [],
   "source": [
    "# Sanity check: check the model accuracy on the test subset\n",
    "y_pred_test = clf.predict(xtest)\n",
    "print(accuracy_score(ytest, y_pred_test))"
   ]
  },
  {
   "cell_type": "code",
   "execution_count": null,
   "metadata": {},
   "outputs": [],
   "source": [
    "# save the model\n",
    "joblib.dump(clf, \"./model/model.joblib\")"
   ]
  }
 ],
 "metadata": {
  "kernelspec": {
   "display_name": "Python 3.9.7 64-bit",
   "language": "python",
   "name": "python3"
  },
  "language_info": {
   "codemirror_mode": {
    "name": "ipython",
    "version": 3
   },
   "file_extension": ".py",
   "mimetype": "text/x-python",
   "name": "python",
   "nbconvert_exporter": "python",
   "pygments_lexer": "ipython3",
   "version": "3.9.7"
  },
  "orig_nbformat": 4,
  "vscode": {
   "interpreter": {
    "hash": "c347c8f9a7ef94e4c9e03b4513be7835ed18f45b99a2a817fb579f408b867b16"
   }
  }
 },
 "nbformat": 4,
 "nbformat_minor": 2
}
